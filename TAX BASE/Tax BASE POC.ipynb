{
 "cells": [
  {
   "cell_type": "markdown",
   "id": "bbd5389e",
   "metadata": {},
   "source": [
    "## Import information sources: BDO Insights UK (Scraped)\n",
    "- Currently ```pdf``` and ```txt``` files supported\n",
    "- Files are parsed to ```document``` type objects. This is necessary for upcoming Langchain document splitting operation and for optional metadata tagging. \n",
    "- Currently, combining multiple documents is not yet supported.\n",
    "\n",
    "```\n",
    "Document objects: {\n",
    "    page_content: Index, Title, Date, Description, Link\n",
    "    metadata: File directory\n",
    "}\n",
    "```\n"
   ]
  },
  {
   "cell_type": "code",
   "execution_count": 29,
   "id": "c6164eb4",
   "metadata": {},
   "outputs": [],
   "source": [
    "#!pip install --upgrade langchain"
   ]
  },
  {
   "cell_type": "code",
   "execution_count": 30,
   "id": "9188425a",
   "metadata": {},
   "outputs": [],
   "source": [
    "import langchain"
   ]
  },
  {
   "cell_type": "code",
   "execution_count": 31,
   "id": "542ded6c",
   "metadata": {},
   "outputs": [],
   "source": [
    "# Specify directories\n",
    "import_directory_pdf = \"C:/Users/RLee/Downloads/scrape bdo uk.pdf\"\n",
    "import_directory_txt = \"C:/Users/RLee/Desktop/TAX BASE/bdo_uk_scrape.txt\""
   ]
  },
  {
   "cell_type": "markdown",
   "id": "6e89e285",
   "metadata": {},
   "source": [
    "Reading **pdf** files:"
   ]
  },
  {
   "cell_type": "code",
   "execution_count": 32,
   "id": "dfee0004",
   "metadata": {
    "scrolled": true
   },
   "outputs": [],
   "source": [
    "# pip install pypdf "
   ]
  },
  {
   "cell_type": "code",
   "execution_count": 33,
   "id": "2384f7cd",
   "metadata": {
    "scrolled": true
   },
   "outputs": [],
   "source": [
    "# from langchain.document_loaders import PyPDFLoader\n",
    "\n",
    "# # Read pdf file\n",
    "# loader = PyPDFLoader(import_directory_pdf)\n",
    "# doc = loader.load()\n",
    "\n",
    "# # First pdf page\n",
    "# page = doc[0]"
   ]
  },
  {
   "cell_type": "markdown",
   "id": "76bb9028",
   "metadata": {},
   "source": [
    "Reading **txt** files"
   ]
  },
  {
   "cell_type": "code",
   "execution_count": 34,
   "id": "0d2b1fad",
   "metadata": {},
   "outputs": [],
   "source": [
    "# import\n",
    "from langchain.document_loaders import TextLoader\n",
    "\n",
    "# read txt file as load() object\n",
    "loader = TextLoader(import_directory_txt)\n",
    "doc = loader.load()"
   ]
  },
  {
   "cell_type": "markdown",
   "id": "90766120",
   "metadata": {},
   "source": [
    "## Document splitting\n",
    "- The scraping method seperates documents by \"*\\n-\\n*\", which we can as splitting criteria. Ideally this should assign each chunk a single article.\n",
    "- The number chunks should ideally represent the total of documents used.\n",
    "- Information corresponding to the articles is fairly concise, preventing the need to split articles into multiple chunks.\n",
    "- At this stage, URL links are messed up due to automated formatting. If intended to be accessed at this stage, we can copy the URL links manually.\n",
    "\n",
    "Returns: ```doc_split``` (list of chunks)"
   ]
  },
  {
   "cell_type": "code",
   "execution_count": 35,
   "id": "e1a80d1c",
   "metadata": {},
   "outputs": [
    {
     "name": "stderr",
     "output_type": "stream",
     "text": [
      "Created a chunk of size 514, which is longer than the specified 500\n",
      "Created a chunk of size 512, which is longer than the specified 500\n"
     ]
    }
   ],
   "source": [
    "from langchain.text_splitter import CharacterTextSplitter\n",
    "\n",
    "# split it into chunks on \"\\n-\\n\" (scraping method ensures this splits goes as intended)\n",
    "text_splitter = c_splitter = CharacterTextSplitter(\n",
    "    chunk_size=500,\n",
    "    chunk_overlap=0, \n",
    "    separator = '\\n-\\n' # Splitting criteria\n",
    ")\n",
    "\n",
    "doc_split = text_splitter.split_documents(doc)"
   ]
  },
  {
   "cell_type": "code",
   "execution_count": 36,
   "id": "4526a63c",
   "metadata": {},
   "outputs": [
    {
     "data": {
      "text/plain": [
       "252"
      ]
     },
     "execution_count": 36,
     "metadata": {},
     "output_type": "execute_result"
    }
   ],
   "source": [
    "# Print total number of chunks\n",
    "len(doc_split)"
   ]
  },
  {
   "cell_type": "code",
   "execution_count": 37,
   "id": "8557e35b",
   "metadata": {},
   "outputs": [
    {
     "data": {
      "text/plain": [
       "Document(page_content='Index: 255 \\nTitle: Which Employee Share Plan Tool  \\nDate: 27 January 2021 \\nDescription: None \\nLink: https://www.bdo.co.uk/en-gb/insights/tax/global-employer-services/which-employee-share-plan-tool', metadata={'source': 'C:/Users/RLee/Desktop/TAX BASE/bdo_uk_scrape.txt'})"
      ]
     },
     "execution_count": 37,
     "metadata": {},
     "output_type": "execute_result"
    }
   ],
   "source": [
    "# Show example of chunk\n",
    "doc_split[-1]"
   ]
  },
  {
   "cell_type": "markdown",
   "id": "b5ee9e5d",
   "metadata": {},
   "source": [
    "Optional: create **JSON** and **Excel** files with all the chunks (documents)"
   ]
  },
  {
   "cell_type": "code",
   "execution_count": 38,
   "id": "3dafc493",
   "metadata": {},
   "outputs": [],
   "source": [
    "import json\n",
    "\n",
    "def parse_to_json(data_list):\n",
    "    parsed_data = []\n",
    "\n",
    "    for document_item in data_list:\n",
    "        item = document_item.page_content\n",
    "        # Splitting the string by new lines and then by ': ' to get key-value pairs\n",
    "        split_data = item.split('\\n')\n",
    "        item_dict = {}\n",
    "\n",
    "        for element in split_data:\n",
    "            key_value = element.split(': ', 1)  # Splitting only on the first occurrence\n",
    "\n",
    "            if len(key_value) == 2:\n",
    "                # Assigning the value to the respective key in the dictionary\n",
    "                item_dict[key_value[0]] = key_value[1]\n",
    "            else:\n",
    "                # Handling cases with missing description\n",
    "                item_dict[key_value[0]] = None\n",
    "\n",
    "        parsed_data.append(item_dict)\n",
    "\n",
    "    return parsed_data\n",
    "\n",
    "parsed_data = parse_to_json(doc_split)"
   ]
  },
  {
   "cell_type": "code",
   "execution_count": 72,
   "id": "f8b4b868",
   "metadata": {},
   "outputs": [
    {
     "name": "stdout",
     "output_type": "stream",
     "text": [
      "{'Index': '0 ', 'Title': 'VAT and other indirect taxes changes in 2023 ', 'Date': '17 November 2023 ', 'Description': \"Stay ready for 2023's VAT and indirect tax changes. Expert insights for businesses. \", 'Link': 'https://www.bdo.co.uk/en-gb/insights/tax/vat-and-indirect-taxes/are-you-ready-for-2023-upcoming-changes-in-vat-and-other-indirect-taxes'} \n",
      "\n",
      "{'Index': '1 ', 'Title': 'Christmas Parties: Tax Issues ', 'Date': '13 November 2023 ', 'Description': 'Planning a good event is a real talent but there is also opportunity to make them even better through ensuring that the tax angles are not forgotten. ', 'Link': 'https://www.bdo.co.uk/en-gb/insights/tax/global-employer-services/christmas-parties-tax-issues'} \n",
      "\n",
      "{'Index': '2 ', 'Title': 'VAT exemption for Loan Administration services ', 'Date': '08 November 2023 ', 'Description': 'The Supreme Court’s ruling in the recent case of Target V HMRC may finally have brought clarity to the VAT treatment of financial intermediary services. ', 'Link': 'https://www.bdo.co.uk/en-gb/insights/tax/vat-and-indirect-taxes/vat-exemption-for-loan-administration-services'} \n",
      "\n",
      "{'Index': '3 ', 'Title': 'Capital Gains Tax on divorce ', 'Date': '03 November 2023 ', 'Description': 'Stay updated on changes to Capital Gains Tax on divorce, understanding tax implications and managing financial matters during marital transitions. ', 'Link': 'https://www.bdo.co.uk/en-gb/insights/tax/private-client/changes-to-capital-gains-tax-on-divorce'} \n",
      "\n",
      "{'Index': '4 ', 'Title': 'Taxing future carbon emissions - UK consultation and EU legislation ', 'Date': '03 November 2023 ', 'Description': 'Taxing Future Carbon Emissions: UK Consultation and EU Legislation ', 'Link': 'https://www.bdo.co.uk/en-gb/insights/tax/corporate-tax/taxing-future-carbon-emissions-uk-consultation-and-eu-legislation'} \n",
      "\n"
     ]
    },
    {
     "data": {
      "text/plain": [
       "[None, None, None, None, None]"
      ]
     },
     "execution_count": 72,
     "metadata": {},
     "output_type": "execute_result"
    }
   ],
   "source": [
    "# Print all json objects (slice list for subset)\n",
    "[print(x, \"\\n\") for x in parsed_data[:5]]"
   ]
  },
  {
   "cell_type": "code",
   "execution_count": 40,
   "id": "a0a25533",
   "metadata": {},
   "outputs": [
    {
     "name": "stdout",
     "output_type": "stream",
     "text": [
      "All document summaries (in JSON) exported to C:/Users/RLee/Desktop/TAX BASE/output.json\n"
     ]
    }
   ],
   "source": [
    "# Export directory JSON:\n",
    "export_directory_json = \"C:/Users/RLee/Desktop/TAX BASE/output.json\"\n",
    "\n",
    "# Write to a JSON file\n",
    "with open(export_directory_json, 'w') as file:\n",
    "    json.dump(parsed_data, file, indent=4)\n",
    "    \n",
    "print(f\"All document summaries (in JSON) exported to {export_directory_json}\")"
   ]
  },
  {
   "cell_type": "code",
   "execution_count": 41,
   "id": "937d377f",
   "metadata": {},
   "outputs": [
    {
     "name": "stdout",
     "output_type": "stream",
     "text": [
      "All document summaries (in Excel) exported to C:/Users/RLee/Desktop/TAX BASE/output.xlsx\n"
     ]
    }
   ],
   "source": [
    "import pandas as pd\n",
    "\n",
    "# Convert the parsed data to a DataFrame\n",
    "df_parsed_docs = pd.DataFrame(parsed_data)\n",
    "\n",
    "# Export directory for Excel\n",
    "export_directory_excel = \"C:/Users/RLee/Desktop/TAX BASE/output.xlsx\"\n",
    "\n",
    "# Exporting the DataFrame to an Excel file\n",
    "df_parsed_docs.to_excel(export_directory_excel, index=False)\n",
    "\n",
    "print(f\"All document summaries (in Excel) exported to {export_directory_excel}\")"
   ]
  },
  {
   "cell_type": "markdown",
   "id": "289de91d",
   "metadata": {},
   "source": [
    "## Embedding"
   ]
  },
  {
   "cell_type": "code",
   "execution_count": 42,
   "id": "65d6734f",
   "metadata": {},
   "outputs": [],
   "source": [
    "# ! pip install openai\n",
    "# ! pip install os\n",
    "# ! pip install python-dotenv"
   ]
  },
  {
   "cell_type": "code",
   "execution_count": 44,
   "id": "bf4f9299",
   "metadata": {
    "scrolled": true
   },
   "outputs": [],
   "source": [
    "import openai\n",
    "import os\n",
    "from dotenv import load_dotenv, find_dotenv\n",
    "\n",
    "# Get openai_api_key using .env file\n",
    "_ = load_dotenv(find_dotenv(\"C:/Users/RLee/Desktop/TAX BASE/openai_api_key.env\")) # .env filepath\n",
    "openai.api_key = os.environ[\"OPENAI_API_KEY\"]"
   ]
  },
  {
   "cell_type": "code",
   "execution_count": 45,
   "id": "eed491b4",
   "metadata": {},
   "outputs": [],
   "source": [
    "from langchain.embeddings.openai import OpenAIEmbeddings\n",
    "\n",
    "# Create an Embedding function\n",
    "embedding = OpenAIEmbeddings()"
   ]
  },
  {
   "cell_type": "code",
   "execution_count": 46,
   "id": "e82b2d6d",
   "metadata": {},
   "outputs": [
    {
     "name": "stdout",
     "output_type": "stream",
     "text": [
      "Index: 1 \n",
      "Title: Christmas Parties: Tax Issues \n",
      "Date: 13 November 2023 \n",
      "Description: Planning a good event is a real talent but there is also opportunity to make them even better through ensuring that the tax angles are not forgotten. \n",
      "Link: https://www.bdo.co.uk/en-gb/insights/tax/global-employer-services/christmas-parties-tax-issues\n",
      "[-0.0011373558241921404, -0.029427741137483598, -0.0029262789006034096, -0.039694462530751685, -0.02100850485060493, 0.0030466949530767147, -0.013163306004484112, -0.0040314687052603135, -0.020322297054734952, -0.013427231649977526, 0.006433194593821364, 0.00605050203532688, -0.03172389835109568, 0.028926283528633218, 0.004341581431847334, 0.01394848545175283, 0.040618200427333453, -0.031644721029976695, 0.011903059836533699, -0.024228401823443962, -0.0315919336657038, -0.013414035740231891, -0.00977185754833888, 0.03819008225361984, 0.005723893723065874, -0.0035827945025618283, 0.02436036464619067, -0.01813171270702348, 0.008300470305200182, 0.014753460160623882]\n"
     ]
    }
   ],
   "source": [
    "# Example of embedded chunk\n",
    "embedding_example = embedding.embed_query(doc_split[1].page_content)\n",
    "print(doc_split[1].page_content)\n",
    "print(embedding_example[:30])"
   ]
  },
  {
   "cell_type": "markdown",
   "id": "6e6267e2",
   "metadata": {},
   "source": [
    "## Storing embedded chunks in Vector Database \n",
    "- Creates repository for all embedded documents. This yields a more scalable LLM design, not limited by the input-token constraints. \n",
    "- ```Chroma```: Open-source & light-weight (Alternatives may become necessary at larger scale)\n",
    "- VectorDB (in specified directory) should be emptied such that we always start from scratch (to prevent duplicate information), however, sometimes this part messes up. \n",
    "\n",
    "Documentation Chroma/Langchain: https://api.python.langchain.com/en/latest/vectorstores/langchain.vectorstores.chroma.Chroma.html"
   ]
  },
  {
   "cell_type": "code",
   "execution_count": 47,
   "id": "3a4d16a2",
   "metadata": {
    "scrolled": false
   },
   "outputs": [],
   "source": [
    "# !pip install chromadb \n",
    "# !pip install --upgrade langchain (requires recent version langchain)"
   ]
  },
  {
   "cell_type": "code",
   "execution_count": 48,
   "id": "aaf32d02",
   "metadata": {
    "scrolled": true
   },
   "outputs": [],
   "source": [
    "# https://python.langchain.com/docs/integrations/vectorstores/chroma\n",
    "from langchain.vectorstores import Chroma\n",
    "import chromadb"
   ]
  },
  {
   "cell_type": "code",
   "execution_count": 49,
   "id": "f2afe79c",
   "metadata": {
    "scrolled": true
   },
   "outputs": [],
   "source": [
    "# Creates/updates VectorDB file at specified directory \n",
    "vectordb_directory = \"C:/Users/RLee/Downloads/vectordb\""
   ]
  },
  {
   "cell_type": "code",
   "execution_count": 80,
   "id": "3093de86",
   "metadata": {
    "scrolled": true
   },
   "outputs": [],
   "source": [
    "# Empty current collection/VectorDB before adding stuff to prevent duplicates\n",
    "try:\n",
    "    vectordb.delete_collection()\n",
    "except Exception as e:\n",
    "    pass\n",
    "\n",
    "# Add chunks to VectorDB in the above specified directory (will run whether delete_collection() succeeds or fails)\n",
    "finally:\n",
    "    vectordb = Chroma.from_documents(\n",
    "        documents = doc_split,\n",
    "        embedding = embedding,\n",
    "        persist_directory = vectordb_directory # chroma-specific keyword\n",
    "    )\n",
    "    \n",
    "    # Save to use later\n",
    "    vectordb.persist()"
   ]
  },
  {
   "cell_type": "code",
   "execution_count": 81,
   "id": "113d707c",
   "metadata": {
    "scrolled": true
   },
   "outputs": [
    {
     "data": {
      "text/plain": [
       "252"
      ]
     },
     "execution_count": 81,
     "metadata": {},
     "output_type": "execute_result"
    }
   ],
   "source": [
    "# Show number of items stored in VectorDB (should be same as number of chunks earlier)\n",
    "vectordb._collection.count()"
   ]
  },
  {
   "cell_type": "markdown",
   "id": "3d6a0392",
   "metadata": {},
   "source": [
    "## Retrieval \n",
    "- Collect a number documents (```n_subset```), that, based on the embeddings, have the highest likelihood of being relevant. This pre-selection step yields a more scalable approach to handling a significantly larger volume of articles.   \n",
    "- Relevance is determined through Embedding similarity matching (numerical representations of the query's and document's content)"
   ]
  },
  {
   "cell_type": "code",
   "execution_count": 83,
   "id": "b3b7c46f",
   "metadata": {
    "scrolled": true
   },
   "outputs": [],
   "source": [
    "# User input\n",
    "question = \"\"\"\n",
    "As a BDO UK tax professional, I'm interested in the developments following the OECD's publication of the Model Globe Rules. \n",
    "Can you tell me which jurisdictions have adopted final legislation to implement Pillar Two and which jurisdictions have published draft legislation for the same?\n",
    "\"\"\""
   ]
  },
  {
   "cell_type": "code",
   "execution_count": 85,
   "id": "78053673",
   "metadata": {},
   "outputs": [],
   "source": [
    "# Number of documents that are selected through embedding similarity\n",
    "n_subset = 20"
   ]
  },
  {
   "cell_type": "code",
   "execution_count": 86,
   "id": "fc3df1fe",
   "metadata": {
    "scrolled": true
   },
   "outputs": [
    {
     "name": "stdout",
     "output_type": "stream",
     "text": [
      "Index: 159 \n",
      "Title: UK legislates for OECD Pillar Two rules \n",
      "Date: 11 August 2022 \n",
      "Description: Understand the UK legislation on OECD Pillar Two rules. \n",
      "Link: https://www.bdo.co.uk/en-gb/insights/tax/corporate-international-tax/uk-legislates-for-oecd-pillar-two-rules \n",
      "\n",
      "Index: 179 \n",
      "Title: The impact of the OECD Pillar Two model rules on natural resource companies \n",
      "Date: 27 April 2022 \n",
      "Description: All natural resources companies will be affected by the Pillar 2 proposals and this article considers some areas of immediate concern. \n",
      "Link: https://www.bdo.co.uk/en-gb/insights/tax/corporate-international-tax/the-impact-of-the-oecd-pillar-two-model-rules-on-natural-resource-companies \n",
      "\n",
      "Index: 178 \n",
      "Title: Pillar One and Pillar Two – implications for professional service partnerships \n",
      "Date: 27 April 2022 \n",
      "Description: Assess the implications of Pillar One and Pillar Two for professional service partnerships, staying compliant and making informed tax planning decisions. \n",
      "Link: https://www.bdo.co.uk/en-gb/insights/tax/partnership-tax/pillar-one-and-pillar-two-implications-for-professional-service-partnerships \n",
      "\n",
      "Index: 218 \n",
      "Title: Are changes to the EOT rules on the way?  \n",
      "Date: 16 November 2021 \n",
      "Description: In September 2021, proposals were put forward to HMRC and the Treasury suggesting a consultation on reforms to EOT rules. \n",
      "Link: https://www.bdo.co.uk/en-gb/insights/tax/global-employer-services/are-changes-to-the-eot-rules-on-the-way \n",
      "\n",
      "Index: 142 \n",
      "Title: HMRC publishes new Guidelines for Compliance \n",
      "Date: 09 November 2022 \n",
      "Description: HMRC has started to publish Guidelines for Compliance, to set out its view on tax issues which it considers are complex, widely misunderstood or novel. \n",
      "Link: https://www.bdo.co.uk/en-gb/insights/tax/tax-support-for-professionals/hmrc-publishes-new-guidelines-for-compliance \n",
      "\n",
      "Index: 10 \n",
      "Title: BDO LLP - Our principles when providing tax services  \n",
      "Date: 29 August 2023 \n",
      "Description: Our goal is to make a positive impact on our clients, our people and our communities and to help people to succeed. \n",
      "Link: https://www.bdo.co.uk/en-gb/insights/tax/bdo-llp-our-principles-when-providing-tax-services \n",
      "\n",
      "Index: 135 \n",
      "Title: Second 2022 Finance Bill to be enacted shortly \n",
      "Date: 15 December 2022 \n",
      "Description: The short second 2022 Finance Bill containing some Autumn Statement measures passed its third reading in the House of Commons on 30 November 2022. It will now proceed to the House of Lords, and is expected to be enacted shortly, when it will be known as the Finance (No. 2) Act 2022. \n",
      "Link: https://www.bdo.co.uk/en-gb/insights/tax/tax-support-for-professionals/second-2022-finance-bill-to-be-enacted-shortly \n",
      "\n",
      "Index: 186 \n",
      "Title: Insurance: How will adopting IFRS 17 affect your tax position? \n",
      "Date: 18 March 2022 \n",
      "Description: We highlight the key points of HMRC’s consultation on IFRS 17 adoption. \n",
      "Link: https://www.bdo.co.uk/en-gb/insights/tax/corporate-tax/insurance-how-will-adopting-ifrs-17-affect-your-tax-position \n",
      "\n",
      "Index: 20 \n",
      "Title: Adopting IFRS16 – unpicking the tax issues for lessees  \n",
      "Date: 13 July 2023 \n",
      "Description: BDO explains the new rules in Finance Bill 2018-19 that address issues arising for lessees which apply IFRS/FRS 101 and will, therefore, be obliged to adopt IFRS 16. \n",
      "Link: https://www.bdo.co.uk/en-gb/insights/tax/capital-allowances/adopting-ifrs16-%E2%80%93-unpicking-the-tax-issues-for-lessees \n",
      "\n",
      "Index: 4 \n",
      "Title: Taxing future carbon emissions - UK consultation and EU legislation \n",
      "Date: 03 November 2023 \n",
      "Description: Taxing Future Carbon Emissions: UK Consultation and EU Legislation \n",
      "Link: https://www.bdo.co.uk/en-gb/insights/tax/corporate-tax/taxing-future-carbon-emissions-uk-consultation-and-eu-legislation \n",
      "\n",
      "Index: 123 \n",
      "Title: Taxes on playing in the UK – advice for international sports stars \n",
      "Date: 31 January 2023 \n",
      "Description: Gain tax advice for international sports stars playing in the UK, ensuring compliance and optimizing tax implications for their professional income. \n",
      "Link: https://www.bdo.co.uk/en-gb/insights/tax/global-employer-services/taxes-on-playing-in-the-uk-advice-for-international-sports-stars \n",
      "\n",
      "Index: 139 \n",
      "Title: Tax transparency moves a step closer for the gig economy \n",
      "Date: 21 November 2022 \n",
      "Description: Discover how tax transparency progresses in the gig economy, managing tax disputes and compliance issues for gig workers with expert assistance. \n",
      "Link: https://www.bdo.co.uk/en-gb/insights/tax/tax-dispute-resolution/tax-transparency-moves-a-step-closer-for-the-gig-economy \n",
      "\n",
      "Index: 133 \n",
      "Title: Digital age VAT in the EU – reforms on the way \n",
      "Date: 20 December 2022 \n",
      "Description: Understand upcoming VAT reforms in the digital age within the EU. \n",
      "Link: https://www.bdo.co.uk/en-gb/insights/tax/vat-and-indirect-taxes/digital-age-vat-in-the-eu-reforms-on-the-way \n",
      "\n",
      "Index: 148 \n",
      "Title: Transfer Pricing Compliance Approach Planner \n",
      "Date: 20 October 2022 \n",
      "Description: Discover expert strategies to ensure compliance in transfer pricing. \n",
      "Link: https://www.bdo.co.uk/en-gb/insights/tax/corporate-international-tax/transfer-pricing-compliance-approach-planner \n",
      "\n",
      "Index: 207 \n",
      "Title: Tax changes for employers in 2022/23  \n",
      "Date: 03 January 2022 \n",
      "Description: Find out the key tax and employment related changes effective from April 2022. \n",
      "Link: https://www.bdo.co.uk/en-gb/insights/tax/global-employer-services/2022-23-tax-changes-for-employers \n",
      "\n",
      "Index: 82 \n",
      "Title: Five tax issues to address in advance of due diligence \n",
      "Date: 30 May 2023 \n",
      "Description: We address essential tax issues before due diligence. Expert advice for smooth processes. \n",
      "Link: https://www.bdo.co.uk/en-gb/insights/tax/corporate-tax/five-tax-issues-to-address-in-advance-of-due-diligence \n",
      "\n",
      "Index: 23 \n",
      "Title: Pensions tax relief – How it works \n",
      "Date: 13 July 2023 \n",
      "Description: Discover how UK pensions work for tax purposes. \n",
      "Link: https://www.bdo.co.uk/en-gb/insights/tax/private-client/pensions-tax-relief-how-it-works\n",
      "-\n",
      "Index: 24 \n",
      "Title: Investors’ relief - how it works \n",
      "Date: 12 July 2023 \n",
      "Description: An explanation of the rules and qualifying conditions for investors’ relief. \n",
      "Link: https://www.bdo.co.uk/en-gb/insights/tax/private-client/investors-relief-oct-2017 \n",
      "\n",
      "Index: 251 \n",
      "Title: Brexit – Social Security rules from 2021 \n",
      "Date: 09 February 2021 \n",
      "Description: BDO highlights the key changes UK-EU social security from 1 January 2021. \n",
      "Link: https://www.bdo.co.uk/en-gb/insights/tax/global-employer-services/brexit-social-security-rules-from-2021 \n",
      "\n",
      "Index: 203 \n",
      "Title: Moving your business to the UK? It may be much easier in future \n",
      "Date: 21 January 2022 \n",
      "Description: BDO explains the UK government’s corporate re-domiciliation proposals. \n",
      "Link: https://www.bdo.co.uk/en-gb/insights/tax/corporate-international-tax/moving-your-business-to-the-uk-it-may-be-much-easier-in-future \n",
      "\n",
      "Index: 180 \n",
      "Title: ATAD III – What is it and how will it work? \n",
      "Date: 20 April 2022 \n",
      "Description: We explain the EU’s proposals to clamp down on shell companies. \n",
      "Link: https://www.bdo.co.uk/en-gb/insights/tax/corporate-international-tax/atad-iii-what-is-it-and-how-will-it-work \n",
      "\n"
     ]
    },
    {
     "data": {
      "text/plain": [
       "[None,\n",
       " None,\n",
       " None,\n",
       " None,\n",
       " None,\n",
       " None,\n",
       " None,\n",
       " None,\n",
       " None,\n",
       " None,\n",
       " None,\n",
       " None,\n",
       " None,\n",
       " None,\n",
       " None,\n",
       " None,\n",
       " None,\n",
       " None,\n",
       " None,\n",
       " None]"
      ]
     },
     "execution_count": 86,
     "metadata": {},
     "output_type": "execute_result"
    }
   ],
   "source": [
    "# Collect n_subset documents, by maximising embedding similarity scores\n",
    "vector_db_matches = vectordb.similarity_search(question, n_subset) \n",
    "[print(x.page_content, \"\\n\") for x in vector_db_matches]"
   ]
  },
  {
   "cell_type": "markdown",
   "id": "b1d081a9",
   "metadata": {},
   "source": [
    "Parse the list of chunks to a single string to conveniently feed to the LLM in the following steps."
   ]
  },
  {
   "cell_type": "code",
   "execution_count": 87,
   "id": "7e49ea0b",
   "metadata": {},
   "outputs": [],
   "source": [
    "vector_db_matches_str = \"\"\n",
    "\n",
    "# Parse the list of document types to a single string (for convenient prompt ingestion)\n",
    "for x in vector_db_matches:\n",
    "    vector_db_matches_str = vector_db_matches_str + \"\\n-\\n\" + x.page_content"
   ]
  },
  {
   "cell_type": "code",
   "execution_count": 88,
   "id": "c0c2e7a7",
   "metadata": {},
   "outputs": [
    {
     "name": "stdout",
     "output_type": "stream",
     "text": [
      "7077\n"
     ]
    }
   ],
   "source": [
    "# May cause problems if excessively high (e.g. due to a large n_subset)\n",
    "print(len(vector_db_matches_str))"
   ]
  },
  {
   "cell_type": "markdown",
   "id": "28047c04",
   "metadata": {},
   "source": [
    "## LLM"
   ]
  },
  {
   "cell_type": "code",
   "execution_count": 89,
   "id": "85b88554",
   "metadata": {},
   "outputs": [],
   "source": [
    "# Get recent LLM version\n",
    "import datetime\n",
    "current_date = datetime.datetime.now().date()\n",
    "llm_name = \"gpt-3.5-turbo-0301\" if current_date < datetime.date(2023, 9, 2) else \"gpt-3.5-turbo\""
   ]
  },
  {
   "cell_type": "code",
   "execution_count": 90,
   "id": "8d179b01",
   "metadata": {},
   "outputs": [],
   "source": [
    "# Standard helper function\n",
    "def get_completion(prompt, model = llm_name):\n",
    "    messages = [{\"role\": \"user\", \"content\": prompt}]\n",
    "    response = openai.ChatCompletion.create(\n",
    "        model=model,\n",
    "        messages=messages,\n",
    "        temperature=0, # this is the degree of randomness of the model's output\n",
    "    )\n",
    "    return response.choices[0].message[\"content\"]"
   ]
  },
  {
   "cell_type": "code",
   "execution_count": 110,
   "id": "4f05ff5a",
   "metadata": {},
   "outputs": [],
   "source": [
    "# Prompt engineering\n",
    "prompt = f\"\"\" \n",
    "Given a list of document summaries, your task is to assess each document strictly for relevance to the provided query. Exclude all documents that are 'likely irrelevant'—those that are only marginally related to the query.\n",
    "\n",
    "Input:\n",
    "\n",
    "Query: <{question}>\n",
    "Document Summaries: <{vector_db_matches_str}>\n",
    "\n",
    "Procedure:\n",
    "\n",
    "1. Essence Extraction: Discern the core essence and essential points of the query.\n",
    "2. Relevance Assessment: Review the titles and descriptions of each document summary. Determine whether the document is likely to be relevant or maybe relevant to the query's key points. Disregard any document that does not appear to closely align with the query's essence.\n",
    "\n",
    "Output:\n",
    "\n",
    "First print the question, and your associated interpretation of the question:\n",
    "\n",
    "- Question: [User input question]\n",
    "- Key Objective of the Query: [Concise summary of the query's key points]\n",
    "\n",
    "Insert a line here, to show a clear break using dashes \n",
    "\n",
    "Don't include the remaining irrelevant documents in the output.\n",
    "Then, for each document that is determined to be relevant or maybe relevant, present the following details:\n",
    "\n",
    "- Conclusion: [Relevant/Maybe Relevant]\n",
    "- Reasoning: [Justification for the relevance assessment, connecting the document's title and description to the query]\n",
    "- Document Details:\n",
    "  - Index: [Document index]\n",
    "  - Title: [Title of the document]\n",
    "  - Date: [Publication date of the document]\n",
    "  - Description: [Overview of the document's main themes and points]\n",
    "  - Link: [Direct URL]\n",
    "\"\"\""
   ]
  },
  {
   "cell_type": "code",
   "execution_count": 111,
   "id": "d73338cc",
   "metadata": {},
   "outputs": [
    {
     "name": "stdout",
     "output_type": "stream",
     "text": [
      "Question: As a BDO UK tax professional, I'm interested in the developments following the OECD's publication of the Model Globe Rules. Can you tell me which jurisdictions have adopted final legislation to implement Pillar Two and which jurisdictions have published draft legislation for the same?\n",
      "\n",
      "Key Objective of the Query: Identify jurisdictions that have adopted final legislation or published draft legislation to implement Pillar Two.\n",
      "\n",
      "--------------------------------------------------\n",
      "\n",
      "Conclusion: Relevant\n",
      "Reasoning: The document titled \"UK legislates for OECD Pillar Two rules\" is likely to be relevant as it specifically discusses the UK legislation on OECD Pillar Two rules, which aligns with the query's objective of identifying jurisdictions that have implemented Pillar Two.\n",
      "Document Details:\n",
      "- Index: 159\n",
      "- Title: UK legislates for OECD Pillar Two rules\n",
      "- Date: 11 August 2022\n",
      "- Description: Understand the UK legislation on OECD Pillar Two rules.\n",
      "- Link: https://www.bdo.co.uk/en-gb/insights/tax/corporate-international-tax/uk-legislates-for-oecd-pillar-two-rules\n",
      "\n",
      "--------------------------------------------------\n",
      "\n",
      "Conclusion: Maybe Relevant\n",
      "Reasoning: The document titled \"The impact of the OECD Pillar Two model rules on natural resource companies\" may be relevant as it discusses the impact of Pillar Two on natural resource companies, which could potentially include information about jurisdictions that have adopted or published draft legislation.\n",
      "Document Details:\n",
      "- Index: 179\n",
      "- Title: The impact of the OECD Pillar Two model rules on natural resource companies\n",
      "- Date: 27 April 2022\n",
      "- Description: All natural resources companies will be affected by the Pillar 2 proposals and this article considers some areas of immediate concern.\n",
      "- Link: https://www.bdo.co.uk/en-gb/insights/tax/corporate-international-tax/the-impact-of-the-oecd-pillar-two-model-rules-on-natural-resource-companies\n",
      "\n",
      "--------------------------------------------------\n",
      "\n",
      "Conclusion: Maybe Relevant\n",
      "Reasoning: The document titled \"Pillar One and Pillar Two – implications for professional service partnerships\" may be relevant as it discusses the implications of Pillar One and Pillar Two for professional service partnerships, which could potentially include information about jurisdictions that have implemented or published draft legislation.\n",
      "Document Details:\n",
      "- Index: 178\n",
      "- Title: Pillar One and Pillar Two – implications for professional service partnerships\n",
      "- Date: 27 April 2022\n",
      "- Description: Assess the implications of Pillar One and Pillar Two for professional service partnerships, staying compliant and making informed tax planning decisions.\n",
      "- Link: https://www.bdo.co.uk/en-gb/insights/tax/partnership-tax/pillar-one-and-pillar-two-implications-for-professional-service-partnerships\n",
      "\n",
      "\n",
      "\n",
      "===============================\n",
      "Total runtime:  0:00:13.970334\n"
     ]
    }
   ],
   "source": [
    "# Track total runtime\n",
    "from datetime import datetime\n",
    "_start_time = datetime.now()\n",
    "\n",
    "# Get LLM response\n",
    "response = get_completion(prompt)\n",
    "print(response)\n",
    "\n",
    "    \n",
    "# Print execution time\n",
    "print(f\"\\n\\n\\n===============================\\nTotal runtime:  {datetime.now() - _start_time}\")"
   ]
  }
 ],
 "metadata": {
  "kernelspec": {
   "display_name": "Python 3 (ipykernel)",
   "language": "python",
   "name": "python3"
  },
  "language_info": {
   "codemirror_mode": {
    "name": "ipython",
    "version": 3
   },
   "file_extension": ".py",
   "mimetype": "text/x-python",
   "name": "python",
   "nbconvert_exporter": "python",
   "pygments_lexer": "ipython3",
   "version": "3.10.9"
  }
 },
 "nbformat": 4,
 "nbformat_minor": 5
}
